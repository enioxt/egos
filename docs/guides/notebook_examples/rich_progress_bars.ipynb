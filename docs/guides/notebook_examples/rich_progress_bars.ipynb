{
 "cells": [
  {
   "cell_type": "markdown",
   "metadata": {},
   "source": [
    "# EGOS Rich Progress Bar Examples\n",
    "\n",
    "This notebook demonstrates different Rich progress bar implementations following EGOS aesthetic standards. Use these examples as templates for your own implementations.\n",
    "\n",
    "These implementations align with the EGOS principles of:\n",
    "- Universal Accessibility - Providing clear visual feedback\n",
    "- Reciprocal Trust - Building user confidence through transparent progress indication\n",
    "- Integrated Ethics - Respecting user time and attention"
   ]
  },
  {
   "cell_type": "code",
   "execution_count": null,
   "metadata": {},
   "source": [
    "# Install required dependencies\n",
    "!pip install rich"
   ]
  },
  {
   "cell_type": "code",
   "execution_count": null,
   "metadata": {},
   "source": [
    "import time\n",
    "import random\n",
    "from rich.console import Console\n",
    "from rich.progress import Progress, BarColumn, TextColumn, TaskProgressColumn, SpinnerColumn, TimeRemainingColumn, TimeElapsedColumn\n",
    "\n",
    "# Create a console instance for display\n",
    "console = Console()"
   ]
  },
  {
   "cell_type": "markdown",
   "metadata": {},
   "source": [
    "## Example 1: Standard EGOS Progress Bar\n",
    "\n",
    "This is the standard progress bar format used across EGOS."
   ]
  },
  {
   "cell_type": "code",
   "execution_count": null,
   "metadata": {},
   "source": [
    "def standard_progress_bar():\n",
    "    total_items = 50\n",
    "    \n",
    "    with Progress(\n",
    "        \"[progress.description]{task.description}\",\n",
    "        BarColumn(),\n",
    "        \"[progress.percentage]{task.percentage:>3.0f}%\",\n",
    "        \"•\",\n",
    "        \"[{task.completed}/{task.total}]\",\n",
    "        console=console\n",
    "    ) as progress:\n",
    "        task = progress.add_task(\"Processing items\", total=total_items)\n",
    "        \n",
    "        for i in range(total_items):\n",
    "            # Simulate processing\n",
    "            time.sleep(0.1)\n",
    "            \n",
    "            # Update progress\n",
    "            progress.update(task, advance=1)\n",
    "\n",
    "# Run the example\n",
    "standard_progress_bar()"
   ]
  },
  {
   "cell_type": "markdown",
   "metadata": {},
   "source": [
    "## Example 2: Progress Bar with Time Information\n",
    "\n",
    "For longer operations, it's helpful to show time elapsed and estimated time remaining."
   ]
  },
  {
   "cell_type": "code",
   "execution_count": null,
   "metadata": {},
   "source": [
    "def progress_with_time():\n",
    "    total_items = 40\n",
    "    \n",
    "    with Progress(\n",
    "        \"[progress.description]{task.description}\",\n",
    "        BarColumn(),\n",
    "        \"[progress.percentage]{task.percentage:>3.0f}%\",\n",
    "        \"•\",\n",
    "        TimeElapsedColumn(),\n",
    "        \"•\",\n",
    "        TimeRemainingColumn(),\n",
    "        console=console\n",
    "    ) as progress:\n",
    "        task = progress.add_task(\"Processing with time\", total=total_items)\n",
    "        \n",
    "        for i in range(total_items):\n",
    "            # Simulate variable processing time\n",
    "            time.sleep(0.1 + random.random() * 0.2)\n",
    "            \n",
    "            # Update progress\n",
    "            progress.update(task, advance=1)\n",
    "\n",
    "# Run the example\n",
    "progress_with_time()"
   ]
  },
  {
   "cell_type": "markdown",
   "metadata": {},
   "source": [
    "## Example 3: Multiple Task Progress\n",
    "\n",
    "For operations with multiple phases or parallel tasks."
   ]
  },
  {
   "cell_type": "code",
   "execution_count": null,
   "metadata": {},
   "source": [
    "def multi_task_progress():\n",
    "    with Progress(\n",
    "        \"[progress.description]{task.description}\",\n",
    "        BarColumn(),\n",
    "        \"[progress.percentage]{task.percentage:>3.0f}%\",\n",
    "        \"•\",\n",
    "        \"[{task.completed}/{task.total}]\",\n",
    "        console=console\n",
    "    ) as progress:\n",
    "        # Create multiple tasks\n",
    "        task1 = progress.add_task(\"Downloading data\", total=30)\n",
    "        task2 = progress.add_task(\"Processing files\", total=20, visible=False)\n",
    "        task3 = progress.add_task(\"Generating report\", total=10, visible=False)\n",
    "        \n",
    "        # Task 1: Downloading\n",
    "        for i in range(30):\n",
    "            time.sleep(0.1)\n",
    "            progress.update(task1, advance=1)\n",
    "        \n",
    "        # Make task 2 visible and complete it\n",
    "        progress.update(task2, visible=True)\n",
    "        for i in range(20):\n",
    "            time.sleep(0.1)\n",
    "            progress.update(task2, advance=1)\n",
    "        \n",
    "        # Make task 3 visible and complete it\n",
    "        progress.update(task3, visible=True)\n",
    "        for i in range(10):\n",
    "            time.sleep(0.1)\n",
    "            progress.update(task3, advance=1)\n",
    "\n",
    "# Run the example\n",
    "multi_task_progress()"
   ]
  },
  {
   "cell_type": "markdown",
   "metadata": {},
   "source": [
    "## Example 4: Indeterminate Progress\n",
    "\n",
    "For operations where the total is unknown."
   ]
  },
  {
   "cell_type": "code",
   "execution_count": null,
   "metadata": {},
   "source": [
    "def indeterminate_progress():\n",
    "    with Progress(\n",
    "        SpinnerColumn(),\n",
    "        \"[progress.description]{task.description}\",\n",
    "        BarColumn(),\n",
    "        console=console\n",
    "    ) as progress:\n",
    "        task = progress.add_task(\"Processing\", total=None)\n",
    "        \n",
    "        # Simulate indeterminate processing\n",
    "        for i in range(100):\n",
    "            time.sleep(0.1)\n",
    "            progress.update(task)\n",
    "            \n",
    "            # At some point we discover the total\n",
    "            if i == 30:\n",
    "                progress.update(task, total=100)\n",
    "                \n",
    "            # Update with advance once we know the total\n",
    "            if i >= 30:\n",
    "                progress.update(task, advance=1)\n",
    "\n",
    "# Run the example\n",
    "indeterminate_progress()"
   ]
  },
  {
   "cell_type": "markdown",
   "metadata": {},
   "source": [
    "## Example 5: Progress Bar with Error Handling\n",
    "\n",
    "Demonstrating proper error handling within progress contexts."
   ]
  },
  {
   "cell_type": "code",
   "execution_count": null,
   "metadata": {},
   "source": [
    "def progress_with_errors():\n",
    "    total_items = 30\n",
    "    errors = 0\n",
    "    \n",
    "    with Progress(\n",
    "        \"[progress.description]{task.description}\",\n",
    "        BarColumn(),\n",
    "        \"[progress.percentage]{task.percentage:>3.0f}%\",\n",
    "        \"•\",\n",
    "        \"[{task.completed}/{task.total}]\",\n",
    "        console=console\n",
    "    ) as progress:\n",
    "        task = progress.add_task(\"Processing with possible errors\", total=total_items)\n",
    "        \n",
    "        for i in range(total_items):\n",
    "            try:\n",
    "                # Simulate occasional errors\n",
    "                if random.random() < 0.2:\n",
    "                    raise ValueError(f\"Simulated error at item {i}\")\n",
    "                    \n",
    "                # Simulate processing\n",
    "                time.sleep(0.1)\n",
    "                \n",
    "            except Exception as e:\n",
    "                # Log the error but continue processing\n",
    "                console.print(f\"[red]Error: {e}[/red]\")\n",
    "                errors += 1\n",
    "            finally:\n",
    "                # Always update progress, even after errors\n",
    "                progress.update(task, advance=1)\n",
    "    \n",
    "    # Report summary after completion\n",
    "    console.print(f\"Completed with {errors} errors out of {total_items} items\")\n",
    "\n",
    "# Run the example\n",
    "progress_with_errors()"
   ]
  },
  {
   "cell_type": "markdown",
   "metadata": {},
   "source": [
    "## Example 6: Advanced Progress Tracking with Description Updates\n",
    "\n",
    "For operations where it's helpful to update the description with current status."
   ]
  },
  {
   "cell_type": "code",
   "execution_count": null,
   "metadata": {},
   "source": [
    "def progress_with_descriptions():\n",
    "    files = [f\"file_{i}.txt\" for i in range(1, 11)]\n",
    "    total_files = len(files)\n",
    "    \n",
    "    with Progress(\n",
    "        \"[progress.description]{task.description}\",\n",
    "        BarColumn(),\n",
    "        \"[progress.percentage]{task.percentage:>3.0f}%\",\n",
    "        \"•\",\n",
    "        \"[{task.completed}/{task.total}]\",\n",
    "        console=console\n",
    "    ) as progress:\n",
    "        task = progress.add_task(f\"Processing {total_files} files\", total=total_files)\n",
    "        \n",
    "        for i, file in enumerate(files):\n",
    "            # Update description to show current file\n",
    "            progress.update(task, description=f\"Processing file {i+1}/{total_files}: {file}\")\n",
    "            \n",
    "            # Simulate processing\n",
    "            time.sleep(0.5)\n",
    "            \n",
    "            # Update progress\n",
    "            progress.update(task, advance=1)\n",
    "        \n",
    "        # Update description for completion\n",
    "        progress.update(task, description=f\"Completed processing {total_files} files\")\n",
    "\n",
    "# Run the example\n",
    "progress_with_descriptions()"
   ]
  },
  {
   "cell_type": "markdown",
   "metadata": {},
   "source": [
    "## Example 7: Integration with EGOS Subsystems\n",
    "\n",
    "This example demonstrates how to integrate progress bars with EGOS subsystem-specific styling.\n",
    "\n",
    "In a real EGOS environment, you would use the actual EGOS console and theme as shown below (simulated here):"
   ]
  },
  {
   "cell_type": "code",
   "execution_count": null,
   "metadata": {},
   "source": [
    "# Simulate EGOS console with subsystem-specific styling\n",
    "class EgosConsoleSimulator:\n",
    "    def __init__(self, subsystem):\n",
    "        self.subsystem = subsystem\n",
    "        # In actual EGOS, you would use egos_console.console\n",
    "        self.console = Console()\n",
    "        \n",
    "        # Subsystem colors based on EGOS palette\n",
    "        self.colors = {\n",
    "            \"koios\": \"blue\",      # Knowledge - Blue\n",
    "            \"cronos\": \"purple\",   # Time - Purple\n",
    "            \"nexus\": \"green\",     # Connections - Green\n",
    "            \"ethik\": \"red\",       # Ethics - Red\n",
    "            \"atlas\": \"yellow\",    # Mapping - Yellow\n",
    "            \"mycelium\": \"cyan\",   # Integration - Teal/Cyan\n",
    "            \"harmony\": \"blue4\"    # Harmony - Dark Blue\n",
    "        }\n",
    "        \n",
    "def egos_subsystem_progress(subsystem):\n",
    "    # Create simulated EGOS console for the specified subsystem\n",
    "    egos_sim = EgosConsoleSimulator(subsystem)\n",
    "    subsystem_color = egos_sim.colors.get(subsystem.lower(), \"dim\")\n",
    "    \n",
    "    items = [f\"{subsystem} item {i}\" for i in range(1, 21)]\n",
    "    \n",
    "    with Progress(\n",
    "        SpinnerColumn(),\n",
    "        f\"[{subsystem_color}]{{task.description}}[/{subsystem_color}]\",\n",
    "        BarColumn(complete_style=subsystem_color),\n",
    "        \"[progress.percentage]{task.percentage:>3.0f}%\",\n",
    "        \"•\",\n",
    "        \"[{task.completed}/{task.total}]\",\n",
    "        console=egos_sim.console\n",
    "    ) as progress:\n",
    "        task = progress.add_task(f\"{subsystem.upper()} Processing\", total=len(items))\n",
    "        \n",
    "        for item in items:\n",
    "            # Simulate processing\n",
    "            time.sleep(0.2)\n",
    "            \n",
    "            # Update progress\n",
    "            progress.update(task, advance=1)\n",
    "\n",
    "# Example with different subsystems\n",
    "egos_subsystem_progress(\"KOIOS\")"
   ]
  },
  {
   "cell_type": "code",
   "execution_count": null,
   "metadata": {},
   "source": [
    "# Try another subsystem\n",
    "egos_subsystem_progress(\"CRONOS\")"
   ]
  },
  {
   "cell_type": "markdown",
   "metadata": {},
   "source": [
    "## Best Practices Summary\n",
    "\n",
    "1. **Always provide accurate totals** when possible\n",
    "2. **Use clear, descriptive task descriptions** that update as the task progresses\n",
    "3. **Include time indicators** for operations that take more than a few seconds\n",
    "4. **Handle errors gracefully** within the progress context\n",
    "5. **Use subsystem-appropriate colors** for progress bars\n",
    "6. **Show multiple tasks** when operations have distinct phases\n",
    "7. **Ensure consistent styling** across the EGOS ecosystem\n",
    "\n",
    "For more information, see the complete [Progress Bar Standardization](../process/progress_bar_standardization.md) documentation."
   ]
  }
 ],
 "metadata": {
  "kernelspec": {
   "display_name": "Python 3",
   "language": "python",
   "name": "python3"
  },
  "language_info": {
   "codemirror_mode": {
    "name": "ipython",
    "version": 3
   },
   "file_extension": ".py",
   "mimetype": "text/x-python",
   "name": "python",
   "nbconvert_exporter": "python",
   "pygments_lexer": "ipython3",
   "version": "3.8.10"
  }
 },
 "nbformat": 4,
 "nbformat_minor": 4
}
